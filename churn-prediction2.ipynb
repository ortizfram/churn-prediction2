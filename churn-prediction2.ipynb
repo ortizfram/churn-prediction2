{
 "cells": [
  {
   "cell_type": "markdown",
   "id": "3537558e-e4c5-49f2-b13e-cf23b8e6e4c9",
   "metadata": {},
   "source": [
    "# Description\n",
    "This is a py program to predict customer churn"
   ]
  },
  {
   "cell_type": "code",
   "execution_count": 2,
   "id": "c830a717-f6db-4ddf-bea2-24ed8d820d44",
   "metadata": {},
   "outputs": [],
   "source": [
    "# Libraries\n",
    "import pandas as pd\n",
    "import numpy as np \n",
    "import matplotlib.pyplot as plt\n",
    "import seaborn as sns\n",
    "import sklearn\n",
    "from sklearn.preprocessing import LabelEncoder\n",
    "from sklearn.preprocessing import StandardScaler\n",
    "from sklearn.metrics import classification_report\n",
    "from sklearn.linear_model import LogisticRegression\n",
    "from sklearn.model_selection import train_test_split"
   ]
  }
 ],
 "metadata": {
  "kernelspec": {
   "display_name": "Python 3 (ipykernel)",
   "language": "python",
   "name": "python3"
  },
  "language_info": {
   "codemirror_mode": {
    "name": "ipython",
    "version": 3
   },
   "file_extension": ".py",
   "mimetype": "text/x-python",
   "name": "python",
   "nbconvert_exporter": "python",
   "pygments_lexer": "ipython3",
   "version": "3.10.7"
  }
 },
 "nbformat": 4,
 "nbformat_minor": 5
}
